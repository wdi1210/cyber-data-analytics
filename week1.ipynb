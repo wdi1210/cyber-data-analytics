{
 "cells": [
  {
   "cell_type": "code",
   "execution_count": 3,
   "metadata": {},
   "outputs": [],
   "source": [
    "import matplotlib.pyplot as plt\n",
    "import pandas as pd\n",
    "\n",
    "IN_FILE = '/home/wouter/Downloads/data_for_student_case.csv(1)/data_for_student_case.csv'"
   ]
  },
  {
   "cell_type": "code",
   "execution_count": 5,
   "metadata": {},
   "outputs": [
    {
     "data": {
      "image/png": "[encoded data removed]",
      "text/plain": [
       "<Figure size 432x288 with 1 Axes>"
      ]
     },
     "metadata": {
      "needs_background": "light"
     },
     "output_type": "display_data"
    }
   ],
   "source": [
    "data = pd.read_csv(IN_FILE, nrows=1000)\n",
    "\n",
    "\n",
    "# print(data.head())\n",
    "# print(len(data['card_id'].unique()))\n",
    "# data.sort_values('card_id', inplace=True)\n",
    "# print(data['card_id'].head())\n",
    "\n",
    "data['mail_count'] = data.groupby(['card_id'])['mail_id'].transform('count')\n",
    "\n",
    "# print(data.groupby(['card_id', 'mail_id']).describe())\n",
    "\n",
    "# d = data[['card_id', 'mail_id']].copy()\n",
    "\n",
    "# print(data.head())\n",
    "# d.plot()\n",
    "plt.scatter(data['card_id'], data['mail_count'])\n",
    "plt.show()"
   ]
  },
  {
   "cell_type": "code",
   "execution_count": null,
   "metadata": {},
   "outputs": [],
   "source": []
  }
 ],
 "metadata": {
  "kernelspec": {
   "display_name": "Python 3",
   "language": "python",
   "name": "python3"
  },
  "language_info": {
   "codemirror_mode": {
    "name": "ipython",
    "version": 2
   },
   "file_extension": ".py",
   "mimetype": "text/x-python",
   "name": "python",
   "nbconvert_exporter": "python",
   "pygments_lexer": "ipython2",
   "version": "2.7.16"
  }
 },
 "nbformat": 4,
 "nbformat_minor": 2
}
